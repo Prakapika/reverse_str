{
 "cells": [
  {
   "cell_type": "code",
   "execution_count": 1,
   "id": "8b6c101e",
   "metadata": {},
   "outputs": [
    {
     "name": "stdout",
     "output_type": "stream",
     "text": [
      " dcba4321\n"
     ]
    }
   ],
   "source": [
    "def reverse_str(str1):\n",
    "    reverse_string = \" \"\n",
    "    index = len(str1)\n",
    "    while index > 0:\n",
    "        reverse_string = reverse_string+str1[index-1]\n",
    "        index = index - 1\n",
    "    return reverse_string\n",
    "output = reverse_str(\"1234abcd\")\n",
    "print(output)"
   ]
  },
  {
   "cell_type": "code",
   "execution_count": null,
   "id": "7c335c01",
   "metadata": {},
   "outputs": [],
   "source": []
  }
 ],
 "metadata": {
  "kernelspec": {
   "display_name": "Python 3 (ipykernel)",
   "language": "python",
   "name": "python3"
  },
  "language_info": {
   "codemirror_mode": {
    "name": "ipython",
    "version": 3
   },
   "file_extension": ".py",
   "mimetype": "text/x-python",
   "name": "python",
   "nbconvert_exporter": "python",
   "pygments_lexer": "ipython3",
   "version": "3.10.6"
  }
 },
 "nbformat": 4,
 "nbformat_minor": 5
}
